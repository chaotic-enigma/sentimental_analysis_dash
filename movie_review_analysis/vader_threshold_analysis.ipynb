{
 "cells": [
  {
   "cell_type": "code",
   "execution_count": 1,
   "metadata": {},
   "outputs": [],
   "source": [
    "from vaderSentiment.vaderSentiment import SentimentIntensityAnalyzer"
   ]
  },
  {
   "cell_type": "code",
   "execution_count": 2,
   "metadata": {},
   "outputs": [],
   "source": [
    "sentiment_analyzer = SentimentIntensityAnalyzer()"
   ]
  },
  {
   "cell_type": "markdown",
   "metadata": {},
   "source": [
    "## Function analysis"
   ]
  },
  {
   "cell_type": "code",
   "execution_count": 3,
   "metadata": {},
   "outputs": [],
   "source": [
    "def positive_threshold(file_name,count,correctness,threshold,value):\n",
    "    for line in file_name:\n",
    "        val_score = sentiment_analyzer.polarity_scores(line) # create an object\n",
    "        if val_score['compound'] >= threshold or val_score['compound'] <= -threshold:\n",
    "            if val_score['compound'] > value:\n",
    "                correctness += 1\n",
    "            count += 1\n",
    "    return 'Positive accuracy : {} via {} samples'.format((correctness/count)*100,count)"
   ]
  },
  {
   "cell_type": "code",
   "execution_count": 12,
   "metadata": {},
   "outputs": [],
   "source": [
    "def negative_threshold(file_name,count,correctness,threshold,value):\n",
    "    for line in file_name:\n",
    "        val_score = sentiment_analyzer.polarity_scores(line) # create object\n",
    "        if val_score['compound'] >= threshold or val_score['compound'] <= -threshold:\n",
    "            if val_score['compound'] <= value:\n",
    "                correctness += 1\n",
    "            count += 1\n",
    "    return 'Negative accuracy : {} via {} samples'.format((correctness/count)*100,count)"
   ]
  },
  {
   "cell_type": "markdown",
   "metadata": {},
   "source": [
    "### Read positive reviews"
   ]
  },
  {
   "cell_type": "code",
   "execution_count": 5,
   "metadata": {},
   "outputs": [],
   "source": [
    "pos_count = 0\n",
    "pos_accuracy = 0"
   ]
  },
  {
   "cell_type": "code",
   "execution_count": 9,
   "metadata": {},
   "outputs": [],
   "source": [
    "with open('positive.txt','r') as p:\n",
    "    positive_file = p.read().split('\\n')"
   ]
  },
  {
   "cell_type": "markdown",
   "metadata": {},
   "source": [
    "### Read negative reviews"
   ]
  },
  {
   "cell_type": "code",
   "execution_count": 7,
   "metadata": {},
   "outputs": [],
   "source": [
    "neg_count = 0\n",
    "neg_accuracy = 0"
   ]
  },
  {
   "cell_type": "code",
   "execution_count": 8,
   "metadata": {},
   "outputs": [],
   "source": [
    "with open('negative.txt','r') as n:\n",
    "    negative_file = n.read().split('\\n')"
   ]
  },
  {
   "cell_type": "markdown",
   "metadata": {},
   "source": [
    "## Accuracy scores"
   ]
  },
  {
   "cell_type": "code",
   "execution_count": 10,
   "metadata": {},
   "outputs": [
    {
     "name": "stdout",
     "output_type": "stream",
     "text": [
      "Positive accuracy : 87.22179585571757 via 2606 samples\n"
     ]
    }
   ],
   "source": [
    "print(positive_threshold(positive_file,pos_count,pos_accuracy,0.5,0))"
   ]
  },
  {
   "cell_type": "code",
   "execution_count": 13,
   "metadata": {},
   "outputs": [
    {
     "name": "stdout",
     "output_type": "stream",
     "text": [
      "Negative accuracy : 50.0 via 1818 samples\n"
     ]
    }
   ],
   "source": [
    "print(negative_threshold(negative_file,neg_count,neg_accuracy,0.5,0))"
   ]
  },
  {
   "cell_type": "code",
   "execution_count": null,
   "metadata": {},
   "outputs": [],
   "source": []
  }
 ],
 "metadata": {
  "kernelspec": {
   "display_name": "Python 3",
   "language": "python",
   "name": "python3"
  },
  "language_info": {
   "codemirror_mode": {
    "name": "ipython",
    "version": 3
   },
   "file_extension": ".py",
   "mimetype": "text/x-python",
   "name": "python",
   "nbconvert_exporter": "python",
   "pygments_lexer": "ipython3",
   "version": "3.6.5"
  }
 },
 "nbformat": 4,
 "nbformat_minor": 2
}
