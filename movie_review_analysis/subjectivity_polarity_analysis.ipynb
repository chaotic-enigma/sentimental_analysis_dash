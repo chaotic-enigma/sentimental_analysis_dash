{
 "cells": [
  {
   "cell_type": "markdown",
   "metadata": {},
   "source": [
    "# Subjectivity is the measure of the sentiment being objective to subjective and ranges from 0 to 1 "
   ]
  },
  {
   "cell_type": "code",
   "execution_count": 1,
   "metadata": {},
   "outputs": [],
   "source": [
    "from textblob import TextBlob"
   ]
  },
  {
   "cell_type": "markdown",
   "metadata": {},
   "source": [
    "### Subjectivity and Polarity Analysis function (Accuracy Values)"
   ]
  },
  {
   "cell_type": "code",
   "execution_count": 2,
   "metadata": {},
   "outputs": [],
   "source": [
    "def positive_analysis(file_name,count,correctness,subject_value,polarity_value):\n",
    "    for line in file_name:\n",
    "        pos_analysis = TextBlob(line) # create TextBlob object for each line\n",
    "        if pos_analysis.sentiment.subjectivity < subject_value:\n",
    "            if pos_analysis.sentiment.polarity > polarity_value:\n",
    "                correctness += 1\n",
    "            count += 1\n",
    "    return 'Positive accuracy : {} via {} samples'.format((correctness/count)*100,count)"
   ]
  },
  {
   "cell_type": "code",
   "execution_count": 3,
   "metadata": {},
   "outputs": [],
   "source": [
    "def negative_analysis(file_name,count,correctness,subject_value,polarity_value):\n",
    "    for line in file_name:\n",
    "        neg_analysis = TextBlob(line) # create TextBlob object for each line\n",
    "        if neg_analysis.sentiment.subjectivity < subject_value:\n",
    "            if neg_analysis.sentiment.polarity <= polarity_value:\n",
    "                correctness += 1\n",
    "            count += 1\n",
    "    return 'Negative accuracy : {} via {} samples'.format((correctness/count)*100,count)"
   ]
  },
  {
   "cell_type": "markdown",
   "metadata": {},
   "source": [
    "### Read positive reviews"
   ]
  },
  {
   "cell_type": "code",
   "execution_count": 4,
   "metadata": {},
   "outputs": [],
   "source": [
    "pos_count = 0\n",
    "pos_accuracy = 0"
   ]
  },
  {
   "cell_type": "code",
   "execution_count": 5,
   "metadata": {},
   "outputs": [],
   "source": [
    "with open('positive.txt','r') as p:\n",
    "    positive_file = p.read().split('\\n')"
   ]
  },
  {
   "cell_type": "markdown",
   "metadata": {},
   "source": [
    "### Read negative reviews"
   ]
  },
  {
   "cell_type": "code",
   "execution_count": 6,
   "metadata": {},
   "outputs": [],
   "source": [
    "neg_count = 0\n",
    "neg_accuracy = 0"
   ]
  },
  {
   "cell_type": "code",
   "execution_count": 7,
   "metadata": {},
   "outputs": [],
   "source": [
    "with open('negative.txt','r') as n:\n",
    "    negative_file = n.read().split('\\n')"
   ]
  },
  {
   "cell_type": "markdown",
   "metadata": {},
   "source": [
    "## Accuracy Values"
   ]
  },
  {
   "cell_type": "markdown",
   "metadata": {},
   "source": [
    "### If subject_value arg (0.3) and greater than subjectivity"
   ]
  },
  {
   "cell_type": "code",
   "execution_count": 8,
   "metadata": {},
   "outputs": [
    {
     "name": "stdout",
     "output_type": "stream",
     "text": [
      "Positive accuracy : 29.087261785356066 via 997 samples\n"
     ]
    }
   ],
   "source": [
    "print(positive_analysis(positive_file,pos_count,pos_accuracy,0.3,0))"
   ]
  },
  {
   "cell_type": "code",
   "execution_count": 9,
   "metadata": {},
   "outputs": [
    {
     "name": "stdout",
     "output_type": "stream",
     "text": [
      "Negative accuracy : 76.03369065849922 via 1306 samples\n"
     ]
    }
   ],
   "source": [
    "print(negative_analysis(negative_file,neg_count,neg_accuracy,0.3,0))"
   ]
  },
  {
   "cell_type": "markdown",
   "metadata": {},
   "source": [
    "### If subject_value arg (0.1) and greater than subjectivity"
   ]
  },
  {
   "cell_type": "code",
   "execution_count": 10,
   "metadata": {},
   "outputs": [
    {
     "name": "stdout",
     "output_type": "stream",
     "text": [
      "Positive accuracy : 2.909090909090909 via 550 samples\n"
     ]
    }
   ],
   "source": [
    "print(positive_analysis(positive_file,pos_count,pos_accuracy,0.1,0))"
   ]
  },
  {
   "cell_type": "code",
   "execution_count": 11,
   "metadata": {},
   "outputs": [
    {
     "name": "stdout",
     "output_type": "stream",
     "text": [
      "Negative accuracy : 98.1159420289855 via 690 samples\n"
     ]
    }
   ],
   "source": [
    "print(negative_analysis(negative_file,neg_count,neg_accuracy,0.1,0))"
   ]
  },
  {
   "cell_type": "markdown",
   "metadata": {},
   "source": [
    "### In both the cases, the accuracy value of negative subjectivity is large and there is a huge loss of samples which is strictly restricted ..."
   ]
  },
  {
   "cell_type": "markdown",
   "metadata": {},
   "source": [
    "-------------------------------------------------------------------------------------------------------------------------"
   ]
  },
  {
   "cell_type": "markdown",
   "metadata": {},
   "source": [
    "## When there is high subjectivity."
   ]
  },
  {
   "cell_type": "code",
   "execution_count": 12,
   "metadata": {},
   "outputs": [],
   "source": [
    "def positive_high_subjectivity(file_name,count,correctness,subject_value,polarity_value):\n",
    "    for line in file_name:\n",
    "        pos_subjective = TextBlob(line)\n",
    "        if pos_subjective.sentiment.subjectivity > subject_value:\n",
    "            if pos_subjective.sentiment.polarity > polarity_value:\n",
    "                correctness += 1\n",
    "            count += 1\n",
    "    return 'Positive accuracy : {} via {} samples'.format((correctness/count)*100,count)"
   ]
  },
  {
   "cell_type": "code",
   "execution_count": 13,
   "metadata": {},
   "outputs": [],
   "source": [
    "def negative_high_subjectivity(file_name,count,correctness,subject_value,polarity_value):\n",
    "    for line in file_name:\n",
    "        neg_subjective = TextBlob(line)\n",
    "        if neg_subjective.sentiment.subjectivity > subject_value:\n",
    "            if neg_subjective.sentiment.polarity <= polarity_value:\n",
    "                correctness += 1\n",
    "            count += 1\n",
    "    return 'Negative accuracy : {} via {} samples'.format((correctness/count)*100,count)"
   ]
  },
  {
   "cell_type": "markdown",
   "metadata": {},
   "source": [
    "## Accuracy Values"
   ]
  },
  {
   "cell_type": "markdown",
   "metadata": {},
   "source": [
    "### If subjectivity greater than subject_value arg (0.9)"
   ]
  },
  {
   "cell_type": "code",
   "execution_count": 14,
   "metadata": {},
   "outputs": [
    {
     "name": "stdout",
     "output_type": "stream",
     "text": [
      "Positive accuracy : 76.08695652173914 via 414 samples\n"
     ]
    }
   ],
   "source": [
    "print(positive_high_subjectivity(positive_file,pos_count,pos_accuracy,0.9,0))"
   ]
  },
  {
   "cell_type": "code",
   "execution_count": 15,
   "metadata": {},
   "outputs": [
    {
     "name": "stdout",
     "output_type": "stream",
     "text": [
      "Negative accuracy : 68.6046511627907 via 344 samples\n"
     ]
    }
   ],
   "source": [
    "print(negative_high_subjectivity(negative_file,neg_count,neg_accuracy,0.9,0))"
   ]
  },
  {
   "cell_type": "markdown",
   "metadata": {},
   "source": [
    "### Now, both the accuracies are slightly comparable with respect to the samples considered ..."
   ]
  },
  {
   "cell_type": "markdown",
   "metadata": {},
   "source": [
    "### If subjectivity greater than subject_value arg (0.5)"
   ]
  },
  {
   "cell_type": "code",
   "execution_count": 16,
   "metadata": {},
   "outputs": [
    {
     "name": "stdout",
     "output_type": "stream",
     "text": [
      "Positive accuracy : 82.03178991015895 via 2894 samples\n"
     ]
    }
   ],
   "source": [
    "print(positive_high_subjectivity(positive_file,pos_count,pos_accuracy,0.5,0))"
   ]
  },
  {
   "cell_type": "code",
   "execution_count": 19,
   "metadata": {},
   "outputs": [
    {
     "name": "stdout",
     "output_type": "stream",
     "text": [
      "Negative accuracy : 52.00506542845083 via 2369 samples\n"
     ]
    }
   ],
   "source": [
    "print(negative_high_subjectivity(negative_file,neg_count,neg_accuracy,0.5,0))"
   ]
  },
  {
   "cell_type": "code",
   "execution_count": null,
   "metadata": {},
   "outputs": [],
   "source": []
  }
 ],
 "metadata": {
  "kernelspec": {
   "display_name": "Python 3",
   "language": "python",
   "name": "python3"
  },
  "language_info": {
   "codemirror_mode": {
    "name": "ipython",
    "version": 3
   },
   "file_extension": ".py",
   "mimetype": "text/x-python",
   "name": "python",
   "nbconvert_exporter": "python",
   "pygments_lexer": "ipython3",
   "version": "3.6.5"
  }
 },
 "nbformat": 4,
 "nbformat_minor": 2
}
