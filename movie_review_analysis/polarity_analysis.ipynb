{
 "cells": [
  {
   "cell_type": "markdown",
   "metadata": {},
   "source": [
    "# Polarity is the sentiment analysis ranging from -1 to +1"
   ]
  },
  {
   "cell_type": "code",
   "execution_count": 1,
   "metadata": {},
   "outputs": [],
   "source": [
    "from textblob import TextBlob"
   ]
  },
  {
   "cell_type": "markdown",
   "metadata": {},
   "source": [
    "## Polarity analysis functions (Accuracy Calculation)"
   ]
  },
  {
   "cell_type": "code",
   "execution_count": 2,
   "metadata": {},
   "outputs": [],
   "source": [
    "def positive_polarity(file_name,count,correctness,value):\n",
    "    for line in file_name:\n",
    "        pos_polarity = TextBlob(line) # create TextBlob object for each line\n",
    "        if pos_polarity.sentiment.polarity > value:\n",
    "            correctness += 1\n",
    "        count += 1\n",
    "    return 'Positive accuracy : {} via {} samples'.format((correctness/count)*100,count)"
   ]
  },
  {
   "cell_type": "code",
   "execution_count": 3,
   "metadata": {},
   "outputs": [],
   "source": [
    "def negative_polarity(file_name,count,correctness,value):\n",
    "    for line in file_name:\n",
    "        neg_polarity = TextBlob(line) # create TextBlob object for each line\n",
    "        if neg_polarity.sentiment.polarity <= value:\n",
    "            correctness += 1\n",
    "        count += 1\n",
    "    return 'Negative accuracy : {} via {} samples'.format((correctness/count)*100,count)"
   ]
  },
  {
   "cell_type": "markdown",
   "metadata": {},
   "source": [
    "### Read positive reviews"
   ]
  },
  {
   "cell_type": "code",
   "execution_count": 4,
   "metadata": {},
   "outputs": [],
   "source": [
    "pos_count = 0\n",
    "pos_accurate = 0"
   ]
  },
  {
   "cell_type": "code",
   "execution_count": 5,
   "metadata": {},
   "outputs": [],
   "source": [
    "with open('positive.txt','r') as p:\n",
    "    positive = p.read().split('\\n')"
   ]
  },
  {
   "cell_type": "markdown",
   "metadata": {},
   "source": [
    "### Read negative reviews"
   ]
  },
  {
   "cell_type": "code",
   "execution_count": 6,
   "metadata": {},
   "outputs": [],
   "source": [
    "neg_count = 0\n",
    "neg_accurate = 0"
   ]
  },
  {
   "cell_type": "code",
   "execution_count": 7,
   "metadata": {},
   "outputs": [],
   "source": [
    "with open('negative.txt','r') as n:\n",
    "    negative = n.read().split('\\n')"
   ]
  },
  {
   "cell_type": "markdown",
   "metadata": {},
   "source": [
    "## Accuracy values "
   ]
  },
  {
   "cell_type": "code",
   "execution_count": 8,
   "metadata": {},
   "outputs": [
    {
     "name": "stdout",
     "output_type": "stream",
     "text": [
      "Positive accuracy : 71.11777944486121 via 5332 samples\n"
     ]
    }
   ],
   "source": [
    "print(positive_polarity(positive,pos_count,pos_accurate,0))"
   ]
  },
  {
   "cell_type": "code",
   "execution_count": 9,
   "metadata": {},
   "outputs": [
    {
     "name": "stdout",
     "output_type": "stream",
     "text": [
      "Negative accuracy : 55.8702175543886 via 5332 samples\n"
     ]
    }
   ],
   "source": [
    "print(negative_polarity(negative,neg_count,neg_accurate,0))"
   ]
  },
  {
   "cell_type": "markdown",
   "metadata": {},
   "source": [
    "The negative sentiment accuracy is very low compared with positive sentiment accuracy"
   ]
  },
  {
   "cell_type": "markdown",
   "metadata": {},
   "source": [
    "### If function value argument == 0.2"
   ]
  },
  {
   "cell_type": "code",
   "execution_count": 10,
   "metadata": {},
   "outputs": [
    {
     "name": "stdout",
     "output_type": "stream",
     "text": [
      "Positive accuracy : 46.17404351087772 via 5332 samples\n"
     ]
    }
   ],
   "source": [
    "print(positive_polarity(positive,pos_count,pos_accurate,0.2))"
   ]
  },
  {
   "cell_type": "code",
   "execution_count": 11,
   "metadata": {},
   "outputs": [
    {
     "name": "stdout",
     "output_type": "stream",
     "text": [
      "Negative accuracy : 80.1012753188297 via 5332 samples\n"
     ]
    }
   ],
   "source": [
    "print(negative_polarity(negative,neg_count,neg_accurate,0.2))"
   ]
  },
  {
   "cell_type": "markdown",
   "metadata": {},
   "source": [
    "Now, the positive sentiment accuracy is low compared with negative sentiment accuracy"
   ]
  },
  {
   "cell_type": "markdown",
   "metadata": {},
   "source": [
    "### If function value argument == 0.1"
   ]
  },
  {
   "cell_type": "code",
   "execution_count": 12,
   "metadata": {},
   "outputs": [
    {
     "name": "stdout",
     "output_type": "stream",
     "text": [
      "Positive accuracy : 60.5026256564141 via 5332 samples\n"
     ]
    }
   ],
   "source": [
    "print(positive_polarity(positive,pos_count,pos_accurate,0.1))"
   ]
  },
  {
   "cell_type": "code",
   "execution_count": 13,
   "metadata": {},
   "outputs": [
    {
     "name": "stdout",
     "output_type": "stream",
     "text": [
      "Negative accuracy : 68.37959489872468 via 5332 samples\n"
     ]
    }
   ],
   "source": [
    "print(negative_polarity(negative,neg_count,neg_accurate,0.1))"
   ]
  },
  {
   "cell_type": "markdown",
   "metadata": {},
   "source": [
    "Now both the accuracy values seem to fall near with respect to the samples taken"
   ]
  },
  {
   "cell_type": "code",
   "execution_count": null,
   "metadata": {},
   "outputs": [],
   "source": []
  }
 ],
 "metadata": {
  "kernelspec": {
   "display_name": "Python 2",
   "language": "python",
   "name": "python2"
  },
  "language_info": {
   "codemirror_mode": {
    "name": "ipython",
    "version": 3
   },
   "file_extension": ".py",
   "mimetype": "text/x-python",
   "name": "python",
   "nbconvert_exporter": "python",
   "pygments_lexer": "ipython3",
   "version": "3.6.5"
  }
 },
 "nbformat": 4,
 "nbformat_minor": 2
}
