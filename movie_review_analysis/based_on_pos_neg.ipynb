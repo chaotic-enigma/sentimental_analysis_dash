{
 "cells": [
  {
   "cell_type": "code",
   "execution_count": 1,
   "metadata": {},
   "outputs": [],
   "source": [
    "from vaderSentiment.vaderSentiment import SentimentIntensityAnalyzer"
   ]
  },
  {
   "cell_type": "code",
   "execution_count": 2,
   "metadata": {},
   "outputs": [],
   "source": [
    "sentiment_analyzer = SentimentIntensityAnalyzer()"
   ]
  },
  {
   "cell_type": "markdown",
   "metadata": {},
   "source": [
    "### Read positive reviews"
   ]
  },
  {
   "cell_type": "code",
   "execution_count": 3,
   "metadata": {},
   "outputs": [],
   "source": [
    "pos_count = 0\n",
    "pos_accuracy = 0"
   ]
  },
  {
   "cell_type": "code",
   "execution_count": 4,
   "metadata": {},
   "outputs": [],
   "source": [
    "with open('positive.txt','r') as p:\n",
    "    for line in p.read().split('\\n'):\n",
    "        val_score = sentiment_analyzer.polarity_scores(line)\n",
    "        if not val_score['neg'] > 0.1:\n",
    "            if val_score['pos'] - val_score['neg'] > 0:\n",
    "                pos_accuracy += 1\n",
    "            pos_count += 1"
   ]
  },
  {
   "cell_type": "markdown",
   "metadata": {},
   "source": [
    "### Read negative reviews"
   ]
  },
  {
   "cell_type": "code",
   "execution_count": 5,
   "metadata": {},
   "outputs": [],
   "source": [
    "neg_count = 0\n",
    "neg_accuracy = 0"
   ]
  },
  {
   "cell_type": "code",
   "execution_count": 6,
   "metadata": {},
   "outputs": [],
   "source": [
    "with open('negative.txt','r') as n:\n",
    "    for line in n.read().split('\\n'):\n",
    "        val_score = sentiment_analyzer.polarity_scores(line)\n",
    "        if not val_score['pos'] > 0.1:\n",
    "            if val_score['pos'] - val_score['neg'] <= 0:\n",
    "                neg_accuracy += 1\n",
    "            neg_count += 1"
   ]
  },
  {
   "cell_type": "markdown",
   "metadata": {},
   "source": [
    "### Accuracy scores"
   ]
  },
  {
   "cell_type": "code",
   "execution_count": 7,
   "metadata": {},
   "outputs": [
    {
     "name": "stdout",
     "output_type": "stream",
     "text": [
      "Positive accuracy = 80.69370058658507% via 3921 samples\n"
     ]
    }
   ],
   "source": [
    "print(\"Positive accuracy = {}% via {} samples\".format(pos_accuracy/pos_count*100.0, pos_count))"
   ]
  },
  {
   "cell_type": "code",
   "execution_count": 8,
   "metadata": {},
   "outputs": [
    {
     "name": "stdout",
     "output_type": "stream",
     "text": [
      "Negative accuracy = 91.76984705025491% via 2746 samples\n"
     ]
    }
   ],
   "source": [
    "print(\"Negative accuracy = {}% via {} samples\".format(neg_accuracy/neg_count*100.0, neg_count))"
   ]
  },
  {
   "cell_type": "code",
   "execution_count": null,
   "metadata": {},
   "outputs": [],
   "source": []
  }
 ],
 "metadata": {
  "kernelspec": {
   "display_name": "Python 3",
   "language": "python",
   "name": "python3"
  },
  "language_info": {
   "codemirror_mode": {
    "name": "ipython",
    "version": 3
   },
   "file_extension": ".py",
   "mimetype": "text/x-python",
   "name": "python",
   "nbconvert_exporter": "python",
   "pygments_lexer": "ipython3",
   "version": "3.6.5"
  }
 },
 "nbformat": 4,
 "nbformat_minor": 2
}
