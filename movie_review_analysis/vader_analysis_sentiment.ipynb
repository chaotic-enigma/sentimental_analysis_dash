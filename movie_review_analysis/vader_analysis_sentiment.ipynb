{
 "cells": [
  {
   "cell_type": "markdown",
   "metadata": {},
   "source": [
    "### positive_sentiment : compound_score >= 0.05\n",
    "### neutral_sentiment : compound_score > -0.05 and compound_score < 0.05\n",
    "### negative_sentiment : compound_score <= -0.05"
   ]
  },
  {
   "cell_type": "code",
   "execution_count": 1,
   "metadata": {},
   "outputs": [],
   "source": [
    "from vaderSentiment.vaderSentiment import SentimentIntensityAnalyzer"
   ]
  },
  {
   "cell_type": "code",
   "execution_count": 15,
   "metadata": {},
   "outputs": [],
   "source": [
    "sentiment_analyzer = SentimentIntensityAnalyzer()"
   ]
  },
  {
   "cell_type": "markdown",
   "metadata": {},
   "source": [
    "## VADER Analysis functions"
   ]
  },
  {
   "cell_type": "code",
   "execution_count": 25,
   "metadata": {},
   "outputs": [],
   "source": [
    "def positive_vader(file_name,count,correctness,value):\n",
    "    for line in file_name:\n",
    "        val_score = sentiment_analyzer.polarity_scores(line) # create an object\n",
    "        if val_score['compound'] > value: # compare compound value\n",
    "            correctness += 1\n",
    "        count += 1\n",
    "    return 'Positive accuracy : {} via {} samples'.format((correctness/count)*100,count)"
   ]
  },
  {
   "cell_type": "code",
   "execution_count": 26,
   "metadata": {},
   "outputs": [],
   "source": [
    "def negative_vader(file_name,count,correctness,value):\n",
    "    for line in file_name:\n",
    "        val_score = sentiment_analyzer.polarity_scores(line) # create an object\n",
    "        if val_score['compound'] <= value: # compare compound value\n",
    "            correctness += 1\n",
    "        count += 1\n",
    "    return 'Negative accuracy : {} via {} samples'.format((correctness/count)*100,count)"
   ]
  },
  {
   "cell_type": "markdown",
   "metadata": {},
   "source": [
    "###  Read posvitive reviews"
   ]
  },
  {
   "cell_type": "code",
   "execution_count": 18,
   "metadata": {},
   "outputs": [],
   "source": [
    "pos_count = 0\n",
    "pos_accuracy = 0"
   ]
  },
  {
   "cell_type": "code",
   "execution_count": 24,
   "metadata": {},
   "outputs": [],
   "source": [
    "with open('positive.txt','r') as p:\n",
    "    positive_file = p.read().split('\\n')"
   ]
  },
  {
   "cell_type": "markdown",
   "metadata": {},
   "source": [
    "### Read negative reviews"
   ]
  },
  {
   "cell_type": "code",
   "execution_count": 20,
   "metadata": {},
   "outputs": [],
   "source": [
    "neg_count = 0\n",
    "neg_accuracy = 0"
   ]
  },
  {
   "cell_type": "code",
   "execution_count": 21,
   "metadata": {},
   "outputs": [],
   "source": [
    "with open('negative.txt','r') as n:\n",
    "    negative_file = n.read().split('\\n')"
   ]
  },
  {
   "cell_type": "markdown",
   "metadata": {},
   "source": [
    "## Accuracy scores"
   ]
  },
  {
   "cell_type": "code",
   "execution_count": 32,
   "metadata": {},
   "outputs": [
    {
     "name": "stdout",
     "output_type": "stream",
     "text": [
      "Positive accuracy : 69.44861215303825 via 5332 samples\n"
     ]
    }
   ],
   "source": [
    "print(positive_vader(positive_file,pos_count,pos_accuracy,0))"
   ]
  },
  {
   "cell_type": "code",
   "execution_count": 30,
   "metadata": {},
   "outputs": [
    {
     "name": "stdout",
     "output_type": "stream",
     "text": [
      "Negative accuracy : 57.78319579894974 via 5332 samples\n"
     ]
    }
   ],
   "source": [
    "print(negative_vader(negative_file,neg_count,neg_accuracy,0))"
   ]
  },
  {
   "cell_type": "code",
   "execution_count": null,
   "metadata": {},
   "outputs": [],
   "source": []
  }
 ],
 "metadata": {
  "kernelspec": {
   "display_name": "Python 3",
   "language": "python",
   "name": "python3"
  },
  "language_info": {
   "codemirror_mode": {
    "name": "ipython",
    "version": 3
   },
   "file_extension": ".py",
   "mimetype": "text/x-python",
   "name": "python",
   "nbconvert_exporter": "python",
   "pygments_lexer": "ipython3",
   "version": "3.6.5"
  }
 },
 "nbformat": 4,
 "nbformat_minor": 2
}
