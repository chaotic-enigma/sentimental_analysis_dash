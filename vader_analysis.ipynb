{
 "cells": [
  {
   "cell_type": "markdown",
   "metadata": {},
   "source": [
    "## VADER - Valence Aware Dictionary sEntiment Reasoner"
   ]
  },
  {
   "cell_type": "code",
   "execution_count": 1,
   "metadata": {},
   "outputs": [],
   "source": [
    "from vaderSentiment.vaderSentiment import SentimentIntensityAnalyzer"
   ]
  },
  {
   "cell_type": "code",
   "execution_count": 2,
   "metadata": {},
   "outputs": [],
   "source": [
    "analyzer = SentimentIntensityAnalyzer()"
   ]
  },
  {
   "cell_type": "code",
   "execution_count": 3,
   "metadata": {},
   "outputs": [],
   "source": [
    "sentences = ['VADER is really cool library for doing sentiment analysis',\n",
    "            'Rick and Morty is an amazing TV show. I really enjoy watching it.',\n",
    "            'I am gonna buy Lambhorghini car.',\n",
    "            'I was exhausted doing coding. I hate coding']"
   ]
  },
  {
   "cell_type": "code",
   "execution_count": 4,
   "metadata": {},
   "outputs": [
    {
     "name": "stdout",
     "output_type": "stream",
     "text": [
      "VADER is really cool library for doing sentiment analysis\n",
      "Rick and Morty is an amazing TV show. I really enjoy watching it.\n",
      "I am gonna buy Lambhorghini car.\n",
      "I was exhausted doing coding. I hate coding\n"
     ]
    }
   ],
   "source": [
    "for sentence in sentences:\n",
    "    print(sentence)"
   ]
  },
  {
   "cell_type": "code",
   "execution_count": 5,
   "metadata": {
    "scrolled": true
   },
   "outputs": [
    {
     "name": "stdout",
     "output_type": "stream",
     "text": [
      "VADER is really cool library for doing sentiment analysis\n",
      "\t{'neg': 0.0, 'neu': 0.755, 'pos': 0.245, 'compound': 0.3804}\n",
      "\n",
      "Rick and Morty is an amazing TV show. I really enjoy watching it.\n",
      "\t{'neg': 0.0, 'neu': 0.578, 'pos': 0.422, 'compound': 0.807}\n",
      "\n",
      "I am gonna buy Lambhorghini car.\n",
      "\t{'neg': 0.0, 'neu': 1.0, 'pos': 0.0, 'compound': 0.0}\n",
      "\n",
      "I was exhausted doing coding. I hate coding\n",
      "\t{'neg': 0.608, 'neu': 0.392, 'pos': 0.0, 'compound': -0.7351}\n",
      "\n"
     ]
    }
   ],
   "source": [
    "for sentence in sentences:\n",
    "    print(sentence)\n",
    "    sentiment = analyzer.polarity_scores(sentence)\n",
    "    print(\"\\t\" + str(sentiment) + \"\\n\")"
   ]
  },
  {
   "cell_type": "code",
   "execution_count": null,
   "metadata": {},
   "outputs": [],
   "source": []
  }
 ],
 "metadata": {
  "kernelspec": {
   "display_name": "Python 3",
   "language": "python",
   "name": "python3"
  },
  "language_info": {
   "codemirror_mode": {
    "name": "ipython",
    "version": 3
   },
   "file_extension": ".py",
   "mimetype": "text/x-python",
   "name": "python",
   "nbconvert_exporter": "python",
   "pygments_lexer": "ipython3",
   "version": "3.6.5"
  }
 },
 "nbformat": 4,
 "nbformat_minor": 2
}
